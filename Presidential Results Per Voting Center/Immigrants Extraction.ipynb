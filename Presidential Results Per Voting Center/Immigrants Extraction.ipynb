{
 "cells": [
  {
   "cell_type": "code",
   "execution_count": 2,
   "metadata": {},
   "outputs": [],
   "source": [
    "import os\n",
    "import pandas as pd\n",
    "import json\n",
    "import math"
   ]
  },
  {
   "cell_type": "code",
   "execution_count": 3,
   "metadata": {},
   "outputs": [
    {
     "name": "stderr",
     "output_type": "stream",
     "text": [
      "D:\\Users\\rafaa\\Miniconda3\\envs\\data\\lib\\site-packages\\ipykernel_launcher.py:3: FutureWarning: Method .as_matrix will be removed in a future version. Use .values instead.\n",
      "  This is separate from the ipykernel package so we can avoid doing imports until\n"
     ]
    }
   ],
   "source": [
    "filename = \"../Répartition des immigrants et des émigrants selon la raison de sortie entre 2009 et 2014 04_14_2017 10_08_53.xlsx\"\n",
    "df = pd.read_excel(filename, sheet_name=0)\n",
    "matrix = df.as_matrix()"
   ]
  },
  {
   "cell_type": "code",
   "execution_count": 9,
   "metadata": {},
   "outputs": [
    {
     "data": {
      "text/plain": [
       "{'cityName': 'Tunis',\n",
       " 'immigrants': 11238,\n",
       " 'delegations': [{'cityName': 'Carthage', 'immigrants': 330},\n",
       "  {'cityName': 'La Medina', 'immigrants': 86},\n",
       "  {'cityName': 'Bab El Bhar', 'immigrants': 701},\n",
       "  {'cityName': 'Bab Souika', 'immigrants': 179},\n",
       "  {'cityName': 'El Omrane', 'immigrants': 269},\n",
       "  {'cityName': 'El Omrane Supérieur', 'immigrants': 294},\n",
       "  {'cityName': 'Ettahrir', 'immigrants': 151},\n",
       "  {'cityName': 'El Menzah', 'immigrants': 1068},\n",
       "  {'cityName': 'Cité El Khadhra', 'immigrants': 754},\n",
       "  {'cityName': 'Le Bardo', 'immigrants': 370},\n",
       "  {'cityName': 'Sijoumi', 'immigrants': 111},\n",
       "  {'cityName': 'Ezzouhour', 'immigrants': 81},\n",
       "  {'cityName': 'El Hrairia', 'immigrants': 406},\n",
       "  {'cityName': 'Sidi Hassine', 'immigrants': 212},\n",
       "  {'cityName': 'El Ouardia', 'immigrants': 113},\n",
       "  {'cityName': 'El Kabaria', 'immigrants': 314},\n",
       "  {'cityName': 'Sidi El Béchir', 'immigrants': 209},\n",
       "  {'cityName': 'Djebel Djelloud', 'immigrants': 55},\n",
       "  {'cityName': 'La Goulette', 'immigrants': 1989},\n",
       "  {'cityName': 'Le Kram', 'immigrants': 1127},\n",
       "  {'cityName': 'La Marsa', 'immigrants': 2419}]}"
      ]
     },
     "execution_count": 9,
     "metadata": {},
     "output_type": "execute_result"
    }
   ],
   "source": [
    "data = []\n",
    "lastGovIndex=-1\n",
    "for line in matrix[2:]:\n",
    "    cityName = line[0]\n",
    "    parsedLine = parseLine(line)\n",
    "    if(\"Gouvernorat\" in cityName):\n",
    "        lastGovIndex = lastGovIndex+1\n",
    "        parsedLine['delegations']=[]\n",
    "        data.append(parsedLine)\n",
    "    elif(\"Délégation\" in cityName):\n",
    "        data[lastGovIndex]['delegations'].append(parsedLine)\n",
    "    #print(cityName)\n",
    "data[0]\n"
   ]
  },
  {
   "cell_type": "code",
   "execution_count": 6,
   "metadata": {},
   "outputs": [
    {
     "data": {
      "text/plain": [
       "30159"
      ]
     },
     "execution_count": 6,
     "metadata": {},
     "output_type": "execute_result"
    }
   ],
   "source": [
    "out = json.dumps(data,indent=4)\n",
    "outfile = open('population.json',\"w+\",encoding=\"utf-8\")\n",
    "outfile.write(out)"
   ]
  },
  {
   "cell_type": "code",
   "execution_count": 8,
   "metadata": {},
   "outputs": [],
   "source": [
    "def parseLine(line):\n",
    "    result = {\"cityName\":line[0].replace(\"Délégation\",\"Gouvernorat\").replace(\"Gouvernorat de \",\"\").replace(\"Gouvernorat du \",\"\")}\n",
    "    result[\"immigrants\"] = sanitizeInt(line[1])\n",
    "    return result\n",
    "def sanitizeInt(element):\n",
    "    if(math.isnan(element)):\n",
    "        return 0\n",
    "    else:\n",
    "        return element\n"
   ]
  },
  {
   "cell_type": "code",
   "execution_count": 35,
   "metadata": {},
   "outputs": [
    {
     "data": {
      "text/plain": [
       "{'cityName': 'Tunis',\n",
       " 'houses': {'total': 287412, 'communal': 287412, 'rural': 0},\n",
       " 'television': {'total': 277160, 'communal': 277160, 'rural': 0},\n",
       " 'arialDish': {'total': 264980, 'communal': 264980, 'rural': 0}}"
      ]
     },
     "execution_count": 35,
     "metadata": {},
     "output_type": "execute_result"
    }
   ],
   "source": [
    "parseLine(matrix[4])"
   ]
  }
 ],
 "metadata": {
  "kernelspec": {
   "display_name": "Python 3",
   "language": "python",
   "name": "python3"
  },
  "language_info": {
   "codemirror_mode": {
    "name": "ipython",
    "version": 3
   },
   "file_extension": ".py",
   "mimetype": "text/x-python",
   "name": "python",
   "nbconvert_exporter": "python",
   "pygments_lexer": "ipython3",
   "version": "3.7.4"
  }
 },
 "nbformat": 4,
 "nbformat_minor": 2
}

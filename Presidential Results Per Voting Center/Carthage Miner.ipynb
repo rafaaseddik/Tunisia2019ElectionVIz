{
 "cells": [
  {
   "cell_type": "code",
   "execution_count": 1,
   "metadata": {},
   "outputs": [],
   "source": [
    "import pandas as pd\n",
    "import numpy as np\n",
    "import json\n",
    "import math\n",
    "import sys\n",
    "sys.path.append(\"./levenshtein.py\")  # path contains python_file.py\n",
    "from levenshtein import levenshtein as levenshtein\n",
    "sys.path.append(\"./candidates.py\")  # path contains python_file.py\n",
    "from candidates import candidates as candidates"
   ]
  },
  {
   "cell_type": "code",
   "execution_count": 2,
   "metadata": {},
   "outputs": [
    {
     "data": {
      "text/plain": [
       "[{'nameAR': 'منجي الرحوي', 'nameFR': 'Mongi Rahoui'},\n",
       " {'nameAR': 'محمد المحرزي عبو', 'nameFR': 'Mohamed Abbou'},\n",
       " {'nameAR': 'عبير موسي', 'nameFR': 'Abir Moussi'},\n",
       " {'nameAR': 'نبيل القروي', 'nameFR': 'Nabil Karoui'},\n",
       " {'nameAR': 'محمد لطفي المرايحي', 'nameFR': 'Lotfi Mraihi'},\n",
       " {'nameAR': 'المهدي جمعة', 'nameFR': 'Mehdi Jomaa'},\n",
       " {'nameAR': 'حمادي الجبالي', 'nameFR': 'Hamadi Jebali'},\n",
       " {'nameAR': 'حمة همامي', 'nameFR': 'Hamma Hammami'},\n",
       " {'nameAR': 'محمد المنصف المرزوقي', 'nameFR': 'Moncef Marzouki'},\n",
       " {'nameAR': 'عبد الكريم زبيدي', 'nameFR': 'Abdelkrim Zbidi'},\n",
       " {'nameAR': 'محسن مرزوق', 'nameFR': 'Mohsen Marzouk'},\n",
       " {'nameAR': 'محمد الصغير نوري', 'nameFR': 'Mohamed Esghaier Nouri'},\n",
       " {'nameAR': 'محمد الهاشمي حامدي', 'nameFR': 'Hechmi Hamdi'},\n",
       " {'nameAR': 'عبد الفتاح مورو', 'nameFR': 'Abdelfattah Mourou'},\n",
       " {'nameAR': 'عمر منصور', 'nameFR': 'Omar Mansour'},\n",
       " {'nameAR': 'يوسف الشاهد', 'nameFR': 'Youssef Chahed'},\n",
       " {'nameAR': 'قيس سعيّد', 'nameFR': 'Kaïs Saïed'},\n",
       " {'nameAR': 'الياس الفخفاخ', 'nameFR': 'Elyes Fakhfakh'},\n",
       " {'nameAR': 'سليم الرياحي', 'nameFR': 'Slim Riahi'},\n",
       " {'nameAR': 'سلمى اللومي', 'nameFR': 'Selma Elloumi Rekik'},\n",
       " {'nameAR': 'سعيد العايدي', 'nameFR': 'Saïd Aïdi'},\n",
       " {'nameAR': 'أحمد الصافي سعيد', 'nameFR': 'Safi Saïd'},\n",
       " {'nameAR': 'الناجي جلول', 'nameFR': 'Néji Jalloul'},\n",
       " {'nameAR': 'حاتم بولبيار', 'nameFR': 'Hatem Boulabiar'},\n",
       " {'nameAR': 'عبيد بريكي', 'nameFR': 'Abid Briki'},\n",
       " {'nameAR': 'سيف الدين مخلوف', 'nameFR': 'Seifeddine Makhlouf'}]"
      ]
     },
     "execution_count": 2,
     "metadata": {},
     "output_type": "execute_result"
    }
   ],
   "source": [
    "candidates"
   ]
  },
  {
   "cell_type": "code",
   "execution_count": 3,
   "metadata": {},
   "outputs": [],
   "source": [
    "filename = \"./sheets/تونس-2-قرطاج.xlsx\"\n",
    "file = pd.ExcelFile(filename)\n",
    "nb_sheets = len(file.sheet_names)"
   ]
  },
  {
   "cell_type": "code",
   "execution_count": 14,
   "metadata": {},
   "outputs": [],
   "source": [
    "sheets = [file.parse(i).values for i in range(nb_sheets)]\n",
    "sheets.reverse()\n",
    "fullMatrix = np.fliplr(np.hstack(tuple(sheets)))\n",
    "first_candidate_line = fullMatrix.shape[0] - 26"
   ]
  },
  {
   "cell_type": "code",
   "execution_count": 16,
   "metadata": {},
   "outputs": [
    {
     "data": {
      "text/plain": [
       "array(['يوحرلا ج  نم', 'وبع يزرحملا دمحم', 'سوم ير بع', 'يورقلا ليبن',\n",
       "       'جيارم ف  طل دمحم', 'هعمج يدهملا', 'لابجلا يدامح', 'مامهلا همح',\n",
       "       'ق  وزرملا فصنملا دمحم', 'يديبز ميركلا دبع', 'قوزرم نسحم',\n",
       "       'يرون ير غصلا دمحم', 'يدماح مشاهلا دمحم', 'وروم حاتفلا دبع',\n",
       "       'روصنم رمع', 'دهاشلا فسوي', 'ديعس سيق', 'خافخفلا سايلا',\n",
       "       'حايرلا ميلس', 'موللا هملس', 'يدياعلا ناورم لع ديعس',\n",
       "       'ديعس ق  اصلا دمحا', 'لولج ح  انلا', 'رايبلوب متاح', 'كيرب ديبع',\n",
       "       'فولخم نيدلا فيس'], dtype=object)"
      ]
     },
     "execution_count": 16,
     "metadata": {},
     "output_type": "execute_result"
    }
   ],
   "source": [
    "fullMatrix[first_candidate_line:,1]"
   ]
  },
  {
   "cell_type": "code",
   "execution_count": 17,
   "metadata": {},
   "outputs": [],
   "source": [
    "matrix_rows = fullMatrix.shape[0]\n",
    "data  = [(candidateName(fullMatrix[i,1]),sum(fullMatrix[i,2:])) for i in range(first_candidate_line,matrix_rows)]"
   ]
  },
  {
   "cell_type": "code",
   "execution_count": 18,
   "metadata": {},
   "outputs": [
    {
     "data": {
      "text/plain": [
       "[('منجي الرحوي', 117),\n",
       " ('محمد المحرزي عبو', 741),\n",
       " ('عبير موسي', 968),\n",
       " ('نبيل القروي', 1810),\n",
       " ('محمد لطفي المرايحي', 934),\n",
       " ('المهدي جمعة', 394),\n",
       " ('حمادي الجبالي', 12),\n",
       " ('حمة همامي', 65),\n",
       " ('محمد المنصف المرزوقي', 143),\n",
       " ('عبد الكريم زبيدي', 3245),\n",
       " ('محسن مرزوق', 15),\n",
       " ('محمد الصغير نوري', 17),\n",
       " ('محمد الهاشمي حامدي', 19),\n",
       " ('عبد الفتاح مورو', 1114),\n",
       " ('عمر منصور', 45),\n",
       " ('يوسف الشاهد', 2704),\n",
       " ('قيس سعيّد', 1291),\n",
       " ('الياس الفخفاخ', 53),\n",
       " ('سليم الرياحي', 9),\n",
       " ('سلمى اللومي', 14),\n",
       " ('سعيد العايدي', 181),\n",
       " ('أحمد الصافي سعيد', 390),\n",
       " ('الناجي جلول', 23),\n",
       " ('حاتم بولبيار', 15),\n",
       " ('عبيد بريكي', 15),\n",
       " ('سيف الدين مخلوف', 365)]"
      ]
     },
     "execution_count": 18,
     "metadata": {},
     "output_type": "execute_result"
    }
   ],
   "source": [
    "data"
   ]
  }
 ],
 "metadata": {
  "kernelspec": {
   "display_name": "Python 3",
   "language": "python",
   "name": "python3"
  },
  "language_info": {
   "codemirror_mode": {
    "name": "ipython",
    "version": 3
   },
   "file_extension": ".py",
   "mimetype": "text/x-python",
   "name": "python",
   "nbconvert_exporter": "python",
   "pygments_lexer": "ipython3",
   "version": "3.7.4"
  }
 },
 "nbformat": 4,
 "nbformat_minor": 4
}

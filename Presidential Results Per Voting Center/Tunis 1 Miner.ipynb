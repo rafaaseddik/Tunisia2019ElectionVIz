{
 "cells": [
  {
   "cell_type": "code",
   "execution_count": 1,
   "metadata": {},
   "outputs": [],
   "source": [
    "import pandas as pd\n",
    "import numpy as np\n",
    "import json\n",
    "import math\n",
    "import sys\n",
    "import os\n",
    "import json\n",
    "sys.path.append(\"./levenshtein.py\")  # path contains python_file.py\n",
    "from levenshtein import levenshtein as levenshtein\n",
    "sys.path.append(\"./candidates.py\")  # path contains python_file.py\n",
    "from candidates import candidates as candidates"
   ]
  },
  {
   "cell_type": "code",
   "execution_count": 2,
   "metadata": {},
   "outputs": [
    {
     "data": {
      "text/plain": [
       "[{'nameAR': 'سيف الدين مخلوف', 'nameFR': 'Seifeddine Makhlouf'},\n",
       " {'nameAR': 'عبيد بريكي', 'nameFR': 'Abid Briki'},\n",
       " {'nameAR': 'حاتم بولبيار', 'nameFR': 'Hatem Boulabiar'},\n",
       " {'nameAR': 'الناجي جلول', 'nameFR': 'Néji Jalloul'},\n",
       " {'nameAR': 'أحمد الصافي سعيد', 'nameFR': 'Safi Saïd'},\n",
       " {'nameAR': 'سعيد العايدي', 'nameFR': 'Saïd Aïdi'},\n",
       " {'nameAR': 'سلمى اللومي', 'nameFR': 'Selma Elloumi Rekik'},\n",
       " {'nameAR': 'سليم الرياحي', 'nameFR': 'Slim Riahi'},\n",
       " {'nameAR': 'الياس الفخفاخ', 'nameFR': 'Elyes Fakhfakh'},\n",
       " {'nameAR': 'قيس سعيّد', 'nameFR': 'Kaïs Saïed'},\n",
       " {'nameAR': 'يوسف الشاهد', 'nameFR': 'Youssef Chahed'},\n",
       " {'nameAR': 'عمر منصور', 'nameFR': 'Omar Mansour'},\n",
       " {'nameAR': 'عبد الفتاح مورو', 'nameFR': 'Abdelfattah Mourou'},\n",
       " {'nameAR': 'محمد الهاشمي حامدي', 'nameFR': 'Hechmi Hamdi'},\n",
       " {'nameAR': 'محمد الصغير نوري', 'nameFR': 'Mohamed Esghaier Nouri'},\n",
       " {'nameAR': 'محسن مرزوق', 'nameFR': 'Mohsen Marzouk'},\n",
       " {'nameAR': 'عبد الكريم زبيدي', 'nameFR': 'Abdelkrim Zbidi'},\n",
       " {'nameAR': 'محمد المنصف المرزوقي', 'nameFR': 'Moncef Marzouki'},\n",
       " {'nameAR': 'حمة همامي', 'nameFR': 'Hamma Hammami'},\n",
       " {'nameAR': 'حمادي الجبالي', 'nameFR': 'Hamadi Jebali'},\n",
       " {'nameAR': 'المهدي جمعة', 'nameFR': 'Mehdi Jomaa'},\n",
       " {'nameAR': 'محمد لطفي المرايحي', 'nameFR': 'Lotfi Mraihi'},\n",
       " {'nameAR': 'نبيل القروي', 'nameFR': 'Nabil Karoui'},\n",
       " {'nameAR': 'عبير موسي', 'nameFR': 'Abir Moussi'},\n",
       " {'nameAR': 'محمد المحرزي عبو', 'nameFR': 'Mohamed Abbou'},\n",
       " {'nameAR': 'منجي الرحوي', 'nameFR': 'Mongi Rahoui'}]"
      ]
     },
     "execution_count": 2,
     "metadata": {},
     "output_type": "execute_result"
    }
   ],
   "source": [
    "candidates[::-1]"
   ]
  },
  {
   "cell_type": "code",
   "execution_count": 2,
   "metadata": {},
   "outputs": [],
   "source": [
    "files = os.listdir('./sheets/Tunis 1')"
   ]
  },
  {
   "cell_type": "code",
   "execution_count": 3,
   "metadata": {},
   "outputs": [],
   "source": [
    "def candidateName(name):\n",
    "    current_max_value = 0\n",
    "    current_max_name = name\n",
    "    for candidate in candidates:\n",
    "        distance = levenshtein(name[::-1],candidate['nameAR'])\n",
    "        if(distance>current_max_value):\n",
    "            current_max_name,current_max_value = candidate['nameFR'],distance\n",
    "    return current_max_name"
   ]
  },
  {
   "cell_type": "code",
   "execution_count": 20,
   "metadata": {},
   "outputs": [
    {
     "name": "stdout",
     "output_type": "stream",
     "text": [
      "\u001b[31mScrapping  تونس-1-الحرائرية.xlsx \u001b[0m\n",
      "--First line candidate 9\n",
      "\u001b[31mScrapping  تونس-1-الزهور-تونس.xlsx \u001b[0m\n",
      "--First line candidate 9\n",
      "\u001b[31mScrapping  تونس-1-السيجومي.xlsx \u001b[0m\n",
      "--First line candidate 9\n",
      "\u001b[31mScrapping  تونس-1-الكبارية-.xlsx \u001b[0m\n",
      "--First line candidate 9\n",
      "\u001b[31mScrapping  تونس-1-المدينة.xlsx \u001b[0m\n",
      "--First line candidate 9\n",
      "\u001b[31mScrapping  تونس-1-الوردية.xlsx \u001b[0m\n",
      "--First line candidate 9\n",
      "\u001b[31mScrapping  تونس-1-باب-البحر.xlsx \u001b[0m\n",
      "--First line candidate 9\n",
      "\u001b[31mScrapping  تونس-1-باب-سويقة.xlsx \u001b[0m\n",
      "--First line candidate 9\n",
      "\u001b[31mScrapping  تونس-1-جبل-الجلود.xlsx \u001b[0m\n",
      "--First line candidate 9\n",
      "\u001b[31mScrapping  تونس-1-سيدي-البشير.xlsx \u001b[0m\n",
      "--First line candidate 9\n",
      "\u001b[31mScrapping  تونس-1-سيدي-حسين.xlsx \u001b[0m\n",
      "--First line candidate 9\n"
     ]
    },
    {
     "data": {
      "text/plain": [
       "10556"
      ]
     },
     "execution_count": 20,
     "metadata": {},
     "output_type": "execute_result"
    }
   ],
   "source": [
    "result = []\n",
    "for filename in files:\n",
    "    print(\"\\x1b[31mScrapping \",filename,\"\\x1b[0m\")\n",
    "    file = pd.ExcelFile(\"./sheets/Tunis 1/\"+filename)\n",
    "    nb_sheets = len(file.sheet_names)\n",
    "    \n",
    "\n",
    "    sheets = [file.parse(i).values for i in range(nb_sheets) if file.parse(i).values.size>5]\n",
    "    sheets.reverse()\n",
    "    fullMatrix = np.fliplr(np.hstack(tuple(sheets)))\n",
    "    first_candidate_line = fullMatrix.shape[0] - 26\n",
    "    print(\"--First line candidate\",first_candidate_line)\n",
    "    matrix_rows = fullMatrix.shape[0]\n",
    "    data  = dict([(candidateName(fullMatrix[i,1]),sum([j for j in fullMatrix[i,2:] if isinstance(j, int)])) for i in range(first_candidate_line,matrix_rows)])\n",
    "    result.append({'delegationName':filename.replace('تونس-1-','').replace('.xlsx',''),'data':data})\n",
    "    \n",
    "out = json.dumps(result,indent=4,ensure_ascii=False)\n",
    "outfile = open('output/Tunis 1.json',\"w+\",encoding=\"utf-8\")\n",
    "outfile.write(out)"
   ]
  },
  {
   "cell_type": "code",
   "execution_count": 15,
   "metadata": {},
   "outputs": [
    {
     "data": {
      "text/plain": [
       "[array([1, 5, 4], dtype=object),\n",
       " array([10, 21, 24], dtype=object),\n",
       " array([28, 25, 20], dtype=object),\n",
       " array([60, 75, 58], dtype=object),\n",
       " array([11, 21, 15], dtype=object),\n",
       " array([5, 6, 6], dtype=object),\n",
       " array([3, 0, 1], dtype=object),\n",
       " array([0, 1, 2], dtype=object),\n",
       " array([3, 6, 3], dtype=object),\n",
       " array([41, 43, 50], dtype=object),\n",
       " array([3, 1, 1], dtype=object),\n",
       " array([3, 0, 0], dtype=object),\n",
       " array([1, 0, 0], dtype=object),\n",
       " array([28, 64, 66], dtype=object),\n",
       " array([6, 4, 2], dtype=object),\n",
       " array([25, 46, 35], dtype=object),\n",
       " array([11, 24, 45], dtype=object),\n",
       " array([1, 1, 0], dtype=object),\n",
       " array([1, 1, 0], dtype=object),\n",
       " array([1, 1, 0], dtype=object),\n",
       " array([1, 0, 0], dtype=object),\n",
       " array([2, 14, 13], dtype=object),\n",
       " array([0, 1, 0], dtype=object),\n",
       " array([0, 0, 0], dtype=object),\n",
       " array([1, 0, 1], dtype=object),\n",
       " array([3, 8, 7], dtype=object)]"
      ]
     },
     "execution_count": 15,
     "metadata": {},
     "output_type": "execute_result"
    }
   ],
   "source": [
    "[fullMatrix[i,2:5] for i in range(first_candidate_line,matrix_rows)]"
   ]
  },
  {
   "cell_type": "code",
   "execution_count": 10,
   "metadata": {},
   "outputs": [],
   "source": [
    "from matplotlib import pyplot as plt"
   ]
  },
  {
   "cell_type": "code",
   "execution_count": 11,
   "metadata": {},
   "outputs": [],
   "source": [
    "plotMat = np.array(result)"
   ]
  },
  {
   "cell_type": "code",
   "execution_count": 81,
   "metadata": {},
   "outputs": [
    {
     "data": {
      "image/png": "[encoded data removed]",
      "text/plain": [
       "<Figure size 1200x800 with 1 Axes>"
      ]
     },
     "metadata": {
      "needs_background": "light"
     },
     "output_type": "display_data"
    }
   ],
   "source": [
    "def initials(name):\n",
    "    return ('.'.join([i[0] for i in name.split(' ')]))\n",
    "\n",
    "X = [initials(i) for i in plotMat[1,:,0]]\n",
    "Y1 = [float(i) for i in plotMat[1,:,1]]\n",
    "Y2 = [float(i) for i in plotMat[2,:,1]]\n",
    "Y3 = [float(i) for i in plotMat[3,:,1]]\n",
    "Y4 = [float(i) for i in plotMat[4,:,1]]\n",
    "Y5 = [float(i) for i in plotMat[5,:,1]]\n",
    "fig, ax = plt.subplots()\n",
    "#fig.set_size_inches((150,150),forward=True)\n",
    "fig.set_dpi(200)\n",
    "x = np.arange(len(X))\n",
    "width = 0.15  # the width of the bars\n",
    "rects1 = ax.bar(x - 2*width, Y1, width, label='Men')\n",
    "rects2 = ax.bar(x - width, Y2, width, label='Women')\n",
    "rects3 = ax.bar(x, Y3, width, label='Women')\n",
    "rects4 = ax.bar(x + width, Y4, width, label='Women')\n",
    "rects5 = ax.bar(x + 2*width, Y4, width, label='Women')\n",
    "ax.set_xticks(x)\n",
    "ax.set_xticklabels(X,fontsize=5)\n",
    "#fig.tight_layout()\n",
    "#fig.set_size_inches(150,20)\n",
    "def autolabel(rects):\n",
    "    \"\"\"Attach a text label above each bar in *rects*, displaying its height.\"\"\"\n",
    "    i=0\n",
    "    for rect in rects:\n",
    "        height = rect.get_height()\n",
    "        label = initials(candidates[i]['nameFR'])\n",
    "        i=i+1\n",
    "        \n",
    "        ax.annotate((label),\n",
    "                    xy=(rect.get_x() + rect.get_width() / 2, height),\n",
    "                    xytext=(0, 3),  # 3 points vertical offset\n",
    "                    fontsize=7,\n",
    "                    textcoords=\"offset points\",\n",
    "                    ha='center', va='bottom')\n",
    "\n",
    "\n",
    "autolabel(rects3)\n",
    "\n",
    "plt.show()"
   ]
  },
  {
   "cell_type": "code",
   "execution_count": 35,
   "metadata": {},
   "outputs": [
    {
     "data": {
      "text/plain": [
       "['M.R',\n",
       " 'M.A',\n",
       " 'A.M',\n",
       " 'N.K',\n",
       " 'L.M',\n",
       " 'M.J',\n",
       " 'H.J',\n",
       " 'H.H',\n",
       " 'M.M',\n",
       " 'A.Z',\n",
       " 'M.M',\n",
       " 'M.E.N',\n",
       " 'H.H',\n",
       " 'A.M',\n",
       " 'O.M',\n",
       " 'Y.C',\n",
       " 'K.S',\n",
       " 'E.F',\n",
       " 'S.R',\n",
       " 'S.E.R',\n",
       " 'S.A',\n",
       " 'S.S',\n",
       " 'N.J',\n",
       " 'H.B',\n",
       " 'A.B',\n",
       " 'S.M']"
      ]
     },
     "execution_count": 35,
     "metadata": {},
     "output_type": "execute_result"
    }
   ],
   "source": [
    "names = plotMat[1,:,0]\n",
    "\n",
    "def initials(name):\n",
    "    return ('.'.join([i[0] for i in name.split(' ')]))\n",
    "[initials(i) for i in names]"
   ]
  }
 ],
 "metadata": {
  "kernelspec": {
   "display_name": "Python 3",
   "language": "python",
   "name": "python3"
  },
  "language_info": {
   "codemirror_mode": {
    "name": "ipython",
    "version": 3
   },
   "file_extension": ".py",
   "mimetype": "text/x-python",
   "name": "python",
   "nbconvert_exporter": "python",
   "pygments_lexer": "ipython3",
   "version": "3.7.4"
  }
 },
 "nbformat": 4,
 "nbformat_minor": 4
}

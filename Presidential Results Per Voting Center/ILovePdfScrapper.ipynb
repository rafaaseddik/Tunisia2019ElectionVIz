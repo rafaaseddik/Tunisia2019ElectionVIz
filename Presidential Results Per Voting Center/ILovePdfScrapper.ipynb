{
 "cells": [
  {
   "cell_type": "code",
   "execution_count": 1,
   "metadata": {},
   "outputs": [
    {
     "name": "stderr",
     "output_type": "stream",
     "text": [
      "D:\\Users\\rafaa\\Miniconda3\\envs\\data\\lib\\site-packages\\ipykernel_launcher.py:13: DeprecationWarning: use options instead of chrome_options\n",
      "  del sys.path[0]\n"
     ]
    }
   ],
   "source": [
    "import selenium\n",
    "from selenium import webdriver\n",
    "import os\n",
    "import time\n",
    "from selenium.webdriver.support.wait import WebDriverWait\n",
    "pdf_path=r\"C:\\Users\\rafaa\\Desktop\\Projects\\Democracy International\\elections 2019\\presidentielle\\results per vorting center\\sheets\\raw\\Unfiltered\"\n",
    "files = os.listdir(pdf_path)\n",
    "chrome_options = webdriver.ChromeOptions()\n",
    "\n",
    "# this is the preference we're passing\n",
    "prefs = {'profile.default_content_setting_values.automatic_downloads': 1}\n",
    "chrome_options.add_experimental_option(\"prefs\", prefs)\n",
    "browser = webdriver.Chrome(chrome_options=chrome_options)"
   ]
  },
  {
   "cell_type": "code",
   "execution_count": 6,
   "metadata": {},
   "outputs": [
    {
     "name": "stdout",
     "output_type": "stream",
     "text": [
      "73 remaining\n",
      "72 remaining\n",
      "71 remaining\n",
      "70 remaining\n",
      "69 remaining\n",
      "68 remaining\n",
      "67 remaining\n",
      "66 remaining\n",
      "65 remaining\n",
      "64 remaining\n",
      "63 remaining\n",
      "62 remaining\n",
      "61 remaining\n",
      "60 remaining\n",
      "59 remaining\n",
      "58 remaining\n",
      "57 remaining\n",
      "56 remaining\n",
      "55 remaining\n",
      "54 remaining\n",
      "53 remaining\n",
      "52 remaining\n",
      "51 remaining\n",
      "50 remaining\n",
      "49 remaining\n",
      "48 remaining\n",
      "47 remaining\n",
      "46 remaining\n",
      "45 remaining\n",
      "Message: \n",
      "\n",
      "44 remaining\n",
      "43 remaining\n",
      "42 remaining\n",
      "41 remaining\n",
      "40 remaining\n",
      "Message: \n",
      "\n",
      "39 remaining\n",
      "38 remaining\n",
      "Message: \n",
      "\n",
      "37 remaining\n",
      "36 remaining\n",
      "35 remaining\n",
      "34 remaining\n",
      "33 remaining\n",
      "32 remaining\n",
      "31 remaining\n",
      "Message: \n",
      "\n",
      "30 remaining\n",
      "29 remaining\n",
      "28 remaining\n",
      "Message: \n",
      "\n",
      "27 remaining\n",
      "26 remaining\n",
      "25 remaining\n",
      "24 remaining\n",
      "23 remaining\n",
      "22 remaining\n",
      "21 remaining\n",
      "20 remaining\n",
      "19 remaining\n",
      "18 remaining\n",
      "17 remaining\n",
      "16 remaining\n",
      "15 remaining\n",
      "14 remaining\n",
      "13 remaining\n",
      "12 remaining\n",
      "11 remaining\n",
      "Message: \n",
      "\n",
      "10 remaining\n",
      "9 remaining\n",
      "8 remaining\n",
      "7 remaining\n",
      "6 remaining\n",
      "5 remaining\n",
      "4 remaining\n",
      "3 remaining\n",
      "2 remaining\n",
      "1 remaining\n"
     ]
    }
   ],
   "source": [
    "i = 73\n",
    "for file in files[len(files)-73:]:\n",
    "    print(i,\"remaining\")\n",
    "    i=i-1\n",
    "    while True:\n",
    "        try:\n",
    "            browser.get(\"https://www.ilovepdf.com/pdf_to_excel\")\n",
    "            x = WebDriverWait(browser, 30).until(lambda x: x.find_element_by_class_name(\"moxie-shim\")).find_element_by_tag_name(\"input\")\n",
    "            x.send_keys(pdf_path+\"\\\\\"+file)\n",
    "            #time.sleep(2)\n",
    "            button = WebDriverWait(browser, 30).until(lambda x: x.find_element_by_id(\"processTask\"))\n",
    "            #button = browser.find_element_by_id(\"processTask\")\n",
    "            button.click()\n",
    "            #time.sleep(2)\n",
    "            dl_button = WebDriverWait(browser, 30).until(lambda x: x.find_element_by_css_selector(\".downloader__btn.active\"))\n",
    "            #dl_button = browser.find_element_by_css_selector(\".downloader__btn.active\")\n",
    "            dl_button.click()\n",
    "            time.sleep(5)\n",
    "            break\n",
    "        except Exception as e:\n",
    "            print(e)\n",
    "        "
   ]
  },
  {
   "cell_type": "code",
   "execution_count": 51,
   "metadata": {},
   "outputs": [
    {
     "name": "stderr",
     "output_type": "stream",
     "text": [
      "D:\\Users\\rafaa\\Miniconda3\\envs\\data\\lib\\site-packages\\ipykernel_launcher.py:6: DeprecationWarning: use options instead of chrome_options\n",
      "  \n"
     ]
    }
   ],
   "source": []
  },
  {
   "cell_type": "code",
   "execution_count": 52,
   "metadata": {},
   "outputs": [],
   "source": [
    "browser.get(\"https://www.ilovepdf.com/pdf_to_excel\")\n"
   ]
  },
  {
   "cell_type": "code",
   "execution_count": 54,
   "metadata": {},
   "outputs": [
    {
     "data": {
      "text/plain": [
       "<selenium.webdriver.remote.webelement.WebElement (session=\"685a0ac44c074fc86f8fce0e1f6d9e11\", element=\"a2b573b6-d8e1-42f4-97a4-040268cc1929\")>"
      ]
     },
     "execution_count": 54,
     "metadata": {},
     "output_type": "execute_result"
    }
   ],
   "source": [
    "x = driver.find_element_by_class_name(\"moxie-shim\").find_element_by_tag_name(\"input\")\n",
    "x"
   ]
  },
  {
   "cell_type": "code",
   "execution_count": 55,
   "metadata": {},
   "outputs": [],
   "source": [
    "x.send_keys(r\"C:\\Users\\rafaa\\Desktop\\Projects\\Democracy International\\elections 2019\\election-data-master\\election-data-master\\PRESIDENTIAL r1 2019\\Result\\result per delegation - voting center\\lyon.pdf\")"
   ]
  },
  {
   "cell_type": "code",
   "execution_count": 57,
   "metadata": {},
   "outputs": [],
   "source": [
    "button = driver.find_element_by_id(\"processTask\")\n",
    "button.click()"
   ]
  },
  {
   "cell_type": "code",
   "execution_count": 58,
   "metadata": {},
   "outputs": [],
   "source": [
    "dl_button = driver.find_element_by_css_selector(\".downloader__btn.active\")\n",
    "dl_button.click()\n"
   ]
  }
 ],
 "metadata": {
  "kernelspec": {
   "display_name": "Python 3",
   "language": "python",
   "name": "python3"
  },
  "language_info": {
   "codemirror_mode": {
    "name": "ipython",
    "version": 3
   },
   "file_extension": ".py",
   "mimetype": "text/x-python",
   "name": "python",
   "nbconvert_exporter": "python",
   "pygments_lexer": "ipython3",
   "version": "3.7.4"
  }
 },
 "nbformat": 4,
 "nbformat_minor": 4
}

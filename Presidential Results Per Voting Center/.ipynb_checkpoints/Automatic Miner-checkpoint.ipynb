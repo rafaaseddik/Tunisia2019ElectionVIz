{
 "cells": [
  {
   "cell_type": "code",
   "execution_count": 39,
   "metadata": {},
   "outputs": [],
   "source": [
    "import pandas as pd\n",
    "import numpy as np\n",
    "import json\n",
    "import math\n",
    "import sys\n",
    "import os\n",
    "import json\n",
    "import re\n",
    "sys.path.append(\"./levenshtein.py\")  # path contains python_file.py\n",
    "from levenshtein import levenshtein as levenshtein\n",
    "sys.path.append(\"./candidates.py\")  # path contains python_file.py\n",
    "from candidates import candidates as candidates\n",
    "def candidateName(name):\n",
    "    current_max_value = 0\n",
    "    current_max_name = name\n",
    "    for candidate in candidates:\n",
    "        try:\n",
    "            distance = levenshtein(name[::-1],candidate['nameAR'])\n",
    "        except Exception as e:\n",
    "            print(name[::-1])\n",
    "        if(distance>current_max_value):\n",
    "            current_max_name,current_max_value = candidate['nameFR'],distance\n",
    "    return current_max_name"
   ]
  },
  {
   "cell_type": "code",
   "execution_count": 40,
   "metadata": {},
   "outputs": [],
   "source": [
    "cities = os.listdir(\"sheets\")"
   ]
  },
  {
   "cell_type": "code",
   "execution_count": 37,
   "metadata": {},
   "outputs": [],
   "source": [
    "def mineCity(GovName):\n",
    "    files = os.listdir('sheets/'+GovName)\n",
    "    GovNameAr =input()\n",
    "    result = []\n",
    "    for filename in files:\n",
    "        print(\"\\x1b[31mScrapping \",filename,\"\\x1b[0m\")\n",
    "        file = pd.ExcelFile(\"./sheets/\"+GovName+\"/\"+filename)\n",
    "        nb_sheets = len(file.sheet_names)\n",
    "\n",
    "\n",
    "        sheets = [file.parse(i).values for i in range(nb_sheets) if file.parse(i).values.size>0]\n",
    "        sheets.reverse()\n",
    "        fullMatrix = np.fliplr(np.hstack(tuple(sheets)))\n",
    "        try:\n",
    "            first_candidate_line = [i for i in range(len(fullMatrix[:,0])) if fullMatrix[i,0] == 1][0]#fullMatrix.shape[0] - 26\n",
    "            print(\"--First line candidate\",first_candidate_line)\n",
    "            matrix_rows = first_candidate_line+26\n",
    "            data  = dict([(candidateName(fullMatrix[i,1]),sum([j for j in fullMatrix[i,2:] if isinstance(j, int)])) for i in range(first_candidate_line,matrix_rows)])\n",
    "        except Exception as e:\n",
    "            first_candidate_line = [i for i in range(len(fullMatrix[:,1])) if fullMatrix[i,1] == 1][0]\n",
    "            print(\"--First line candidate\",first_candidate_line)\n",
    "            matrix_rows = first_candidate_line+26\n",
    "            data  = dict([(candidateName(fullMatrix[i,2]),sum([j for j in fullMatrix[i,2:] if isinstance(j, int)])) for i in range(first_candidate_line,matrix_rows)])\n",
    "        \n",
    "        result.append({'delegationName':filename.replace(GovNameAr,'').replace('.xlsx','').replace(\"-\",\" \"),'data':data})\n",
    "\n",
    "    out = json.dumps(result,indent=4,ensure_ascii=False)\n",
    "    outfile = open('output/'+GovName+'.json',\"w+\",encoding=\"utf-8\")\n",
    "    outfile.write(out)"
   ]
  },
  {
   "cell_type": "code",
   "execution_count": null,
   "metadata": {},
   "outputs": [],
   "source": [
    "for city in cities[18:]:\n",
    "    print(city)\n",
    "    print(os.listdir('sheets/'+city))\n",
    "    mine = input()\n",
    "    if(mine==\"q\"):\n",
    "        break\n",
    "    if(mine==\"n\"):\n",
    "        continue\n",
    "    mineCity(city)"
   ]
  },
  {
   "cell_type": "code",
   "execution_count": 21,
   "metadata": {},
   "outputs": [
    {
     "ename": "NameError",
     "evalue": "name 'fullMatrix' is not defined",
     "output_type": "error",
     "traceback": [
      "\u001b[1;31m---------------------------------------------------------------\u001b[0m",
      "\u001b[1;31mNameError\u001b[0m                     Traceback (most recent call last)",
      "\u001b[1;32m<ipython-input-21-02f755358d95>\u001b[0m in \u001b[0;36m<module>\u001b[1;34m\u001b[0m\n\u001b[1;32m----> 1\u001b[1;33m \u001b[0mfullMatrix\u001b[0m\u001b[1;33m\u001b[0m\u001b[1;33m\u001b[0m\u001b[0m\n\u001b[0m",
      "\u001b[1;31mNameError\u001b[0m: name 'fullMatrix' is not defined"
     ]
    }
   ],
   "source": [
    "fullMatrix"
   ]
  }
 ],
 "metadata": {
  "kernelspec": {
   "display_name": "Python 3",
   "language": "python",
   "name": "python3"
  },
  "language_info": {
   "codemirror_mode": {
    "name": "ipython",
    "version": 3
   },
   "file_extension": ".py",
   "mimetype": "text/x-python",
   "name": "python",
   "nbconvert_exporter": "python",
   "pygments_lexer": "ipython3",
   "version": "3.7.4"
  }
 },
 "nbformat": 4,
 "nbformat_minor": 4
}

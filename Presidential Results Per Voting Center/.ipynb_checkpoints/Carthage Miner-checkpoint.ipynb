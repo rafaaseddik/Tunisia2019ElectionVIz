{
 "cells": [
  {
   "cell_type": "code",
   "execution_count": 1,
   "metadata": {},
   "outputs": [],
   "source": [
    "import pandas as pd\n",
    "import numpy as np\n",
    "import json\n",
    "import math\n",
    "import sys\n",
    "sys.path.append(\"./levenshtein.py\")  # path contains python_file.py\n",
    "from levenshtein import levenshtein as levenshtein\n",
    "sys.path.append(\"./candidates.py\")  # path contains python_file.py\n",
    "from candidates import candidates as candidates"
   ]
  },
  {
   "cell_type": "code",
   "execution_count": 2,
   "metadata": {},
   "outputs": [
    {
     "data": {
      "text/plain": [
       "['سيف الدين مخلوف',\n",
       " 'عبيد بريكي',\n",
       " 'حاتم بولبيار',\n",
       " 'الناجي جلول',\n",
       " 'أحمد الصافي سعيد',\n",
       " 'سعيد العايدي',\n",
       " 'سلمى اللومي',\n",
       " 'سليم الرياحي',\n",
       " 'الياس الفخفاخ',\n",
       " 'قيس سعيّد',\n",
       " 'يوسف الشاهد',\n",
       " 'عمر منصور',\n",
       " 'عبد الفتاح مورو',\n",
       " 'محمد الهاشمي حامدي',\n",
       " 'محمد الصغير نوري',\n",
       " 'محسن مرزوق',\n",
       " 'عبد الكريم زبيدي',\n",
       " 'محمد المنصف المرزوقي',\n",
       " 'حمة همامي',\n",
       " 'حمادي الجبالي',\n",
       " 'المهدي جمعة',\n",
       " 'محمد لطفي المرايحي',\n",
       " 'نبيل القروي',\n",
       " 'عبير موسي',\n",
       " 'محمد المحرزي عبو',\n",
       " 'منجي الرحوي']"
      ]
     },
     "execution_count": 2,
     "metadata": {},
     "output_type": "execute_result"
    }
   ],
   "source": [
    "candidates"
   ]
  },
  {
   "cell_type": "code",
   "execution_count": 3,
   "metadata": {},
   "outputs": [],
   "source": [
    "filename = \"./sheets/تونس-2-المرسى.xlsx\"\n",
    "file = pd.ExcelFile(filename)\n",
    "nb_sheets = len(file.sheet_names)"
   ]
  },
  {
   "cell_type": "code",
   "execution_count": 4,
   "metadata": {},
   "outputs": [],
   "source": [
    "sheets = [file.parse(i).values for i in range(nb_sheets)]\n",
    "sheets.reverse()\n",
    "fullMatrix = np.fliplr(np.hstack(tuple(sheets)))\n",
    "    "
   ]
  },
  {
   "cell_type": "code",
   "execution_count": 36,
   "metadata": {},
   "outputs": [],
   "source": [
    "def candidateName(name):\n",
    "    current_max_value = 0\n",
    "    current_max_name = name\n",
    "    for candidate in candidates:\n",
    "        distance = levenshtein(name[::-1],candidate)\n",
    "        if(distance>current_max_value):\n",
    "            current_max_name,current_max_value = candidate,distance\n",
    "    return current_max_name"
   ]
  },
  {
   "cell_type": "code",
   "execution_count": 37,
   "metadata": {},
   "outputs": [],
   "source": [
    "matrix_rows = fullMatrix.shape[0]\n",
    "data  = [(candidateName(fullMatrix[i,1]),sum(fullMatrix[i,2:])) for i in range(9,matrix_rows)]"
   ]
  },
  {
   "cell_type": "code",
   "execution_count": 38,
   "metadata": {},
   "outputs": [
    {
     "data": {
      "text/plain": [
       "[('منجي الرحوي', 294),\n",
       " ('محمد المحرزي عبو', 1740),\n",
       " ('عبير موسي', 2237),\n",
       " ('نبيل القروي', 4980),\n",
       " ('محمد لطفي المرايحي', 1971),\n",
       " ('المهدي جمعة', 942),\n",
       " ('حمادي الجبالي', 29),\n",
       " ('حمة همامي', 174),\n",
       " ('محمد المنصف المرزوقي', 338),\n",
       " ('عبد الكريم زبيدي', 7349),\n",
       " ('محسن مرزوق', 46),\n",
       " ('محمد الصغير نوري', 33),\n",
       " ('محمد الهاشمي حامدي', 50),\n",
       " ('عبد الفتاح مورو', 2451),\n",
       " ('عمر منصور', 112),\n",
       " ('يوسف الشاهد', 6158),\n",
       " ('قيس سعيّد', 3688),\n",
       " ('الياس الفخفاخ', 120),\n",
       " ('سليم الرياحي', 23),\n",
       " ('سلمى اللومي', 35),\n",
       " ('سعيد العايدي', 242),\n",
       " ('أحمد الصافي سعيد', 1297),\n",
       " ('الناجي جلول', 67),\n",
       " ('حاتم بولبيار', 27),\n",
       " ('عبيد بريكي', 37),\n",
       " ('سيف الدين مخلوف', 1064)]"
      ]
     },
     "execution_count": 38,
     "metadata": {},
     "output_type": "execute_result"
    }
   ],
   "source": [
    "data"
   ]
  }
 ],
 "metadata": {
  "kernelspec": {
   "display_name": "Python 3",
   "language": "python",
   "name": "python3"
  },
  "language_info": {
   "codemirror_mode": {
    "name": "ipython",
    "version": 3
   },
   "file_extension": ".py",
   "mimetype": "text/x-python",
   "name": "python",
   "nbconvert_exporter": "python",
   "pygments_lexer": "ipython3",
   "version": "3.7.4"
  }
 },
 "nbformat": 4,
 "nbformat_minor": 4
}
